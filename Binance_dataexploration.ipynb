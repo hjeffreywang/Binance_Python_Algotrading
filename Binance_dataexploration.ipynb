{
 "cells": [
  {
   "cell_type": "code",
   "execution_count": 1,
   "metadata": {},
   "outputs": [],
   "source": [
    "import datetime\n",
    "import numpy as np\n",
    "import alpaca_trade_api as  tradeapi\n",
    "import time\n",
    "import talib as ta\n",
    "import sys\n",
    "sys.path.insert(0, '../')\n",
    "import pandas as pd\n",
    "from datetime import timedelta"
   ]
  },
  {
   "cell_type": "code",
   "execution_count": 2,
   "metadata": {},
   "outputs": [],
   "source": [
    "import dtale\n",
    "import plotly\n",
    "import dash\n",
    "import config"
   ]
  },
  {
   "cell_type": "code",
   "execution_count": 3,
   "metadata": {},
   "outputs": [],
   "source": [
    "from config import binance_api_key, binance_secret_key\n",
    "import cross_signal"
   ]
  },
  {
   "cell_type": "code",
   "execution_count": 4,
   "metadata": {},
   "outputs": [],
   "source": [
    "import requests"
   ]
  },
  {
   "cell_type": "code",
   "execution_count": 5,
   "metadata": {},
   "outputs": [],
   "source": [
    "#Python wrapper for binance\n",
    "from binance import Client, ThreadedWebsocketManager, ThreadedDepthCacheManager"
   ]
  },
  {
   "cell_type": "code",
   "execution_count": 6,
   "metadata": {},
   "outputs": [],
   "source": [
    "client = Client(binance_api_key, binance_secret_key, tld='us')"
   ]
  },
  {
   "cell_type": "code",
   "execution_count": 7,
   "metadata": {},
   "outputs": [],
   "source": [
    "depth = client.get_order_book(symbol='BNBBTC')"
   ]
  },
  {
   "cell_type": "code",
   "execution_count": 8,
   "metadata": {},
   "outputs": [],
   "source": [
    "trades=client.get_recent_trades(symbol='ETHBUSD')"
   ]
  },
  {
   "cell_type": "code",
   "execution_count": 9,
   "metadata": {},
   "outputs": [],
   "source": [
    "def binanceDataFrame(self, klines):\n",
    "    df = pd.DataFrame(klines.reshape(-1,12),dtype=float, columns = ('Open Time',\n",
    "                                                                    'Open',\n",
    "                                                                    'High',\n",
    "                                                                    'Low',\n",
    "                                                                    'Close',\n",
    "                                                                    'Volume',\n",
    "                                                                    'Close time',\n",
    "                                                                    'Quote asset volume',\n",
    "                                                                    'Number of trades',\n",
    "                                                                    'Taker buy base asset volume',\n",
    "                                                                    'Taker buy quote asset volume',\n",
    "                                                                    'Ignore'))\n",
    "\n",
    "    df['Open Time'] = pd.to_datetime(df['Open Time'], unit='ms')\n",
    "\n",
    "\n",
    "    return df"
   ]
  },
  {
   "cell_type": "code",
   "execution_count": 10,
   "metadata": {},
   "outputs": [],
   "source": [
    "#make sure to import these packages\n",
    "from pandas import DataFrame\n",
    "import talib.abstract as tab\n",
    "#abstract automatically extracts the columns and periods from the data itself, no input required\n",
    "\n",
    "\n",
    "\n",
    "#feel free to add or subtract more indicators for any other strategy you want to use\n",
    "def populateindicators(dataframe) -> DataFrame:\n",
    "        #exponential moving averages\n",
    "        dataframe['ema_high'] = tab.EMA(dataframe, timeperiod=4, price='High')\n",
    "        dataframe['ema_close'] = tab.EMA(dataframe, timeperiod=4, price='Close')\n",
    "        dataframe['ema_low'] = tab.EMA(dataframe, timeperiod=4, price='Low')\n",
    "        \n",
    "        dataframe['dema_close'] = tab.DEMA(dataframe, timeperiod=4, price='Close')\n",
    "        dataframe['sema_high'] = tab.EMA(dataframe, timeperiod=10, price='High')\n",
    "        dataframe['sema_close'] = tab.EMA(dataframe, timeperiod=10, price='Close')\n",
    "        dataframe['sema_low'] = tab.EMA(dataframe, timeperiod=10, price='Low')\n",
    "        \n",
    "        dataframe['ssema_close'] = tab.EMA(dataframe, timeperiod=35, price='Close')\n",
    "        dataframe['sssema_close'] = tab.EMA(dataframe, timeperiod=40, price='Close')\n",
    "        dataframe['ssssema_close'] = tab.EMA(dataframe, timeperiod=45, price='Close')\n",
    "        dataframe['chaikosc'] = ta.ADOSC(dataframe['High'],dataframe['Low'],dataframe['Close'], np.asarray(dataframe['Quote asset volume'], dtype='float'))\n",
    "        \n",
    "        dataframe['mfi'] = ta.MFI(dataframe['High'],dataframe['Low'],dataframe['Close'], np.asarray(dataframe['Quote asset volume'], dtype='float'), timeperiod=14)\n",
    "        dataframe['ultosc'] = ta.ULTOSC(dataframe['High'],dataframe['Low'],dataframe['Close'])\n",
    "        dataframe['obv'] = ta.OBV(dataframe['Close'], np.asarray(dataframe['Quote asset volume'], dtype='float'))\n",
    "        \n",
    "        dataframe['rsi'] = tab.RSI(dataframe['Close'], timeperiod=14)\n",
    "        dataframe['adx'] = tab.ADX(dataframe['High'],dataframe['Low'],dataframe['Close'], timeperiod=14)\n",
    "        dataframe['shortadx'] = tab.ADX(dataframe['High'],dataframe['Low'],dataframe['Close'], timeperiod=10)\n",
    "        dataframe['srsi'] = tab.RSI(dataframe, timeperiod=3, price='Close')\n",
    "       \n",
    "\n",
    "\n",
    "        return dataframe"
   ]
  },
  {
   "cell_type": "code",
   "execution_count": 11,
   "metadata": {},
   "outputs": [
    {
     "data": {
      "text/html": [
       "<div>\n",
       "<style scoped>\n",
       "    .dataframe tbody tr th:only-of-type {\n",
       "        vertical-align: middle;\n",
       "    }\n",
       "\n",
       "    .dataframe tbody tr th {\n",
       "        vertical-align: top;\n",
       "    }\n",
       "\n",
       "    .dataframe thead th {\n",
       "        text-align: right;\n",
       "    }\n",
       "</style>\n",
       "<table border=\"1\" class=\"dataframe\">\n",
       "  <thead>\n",
       "    <tr style=\"text-align: right;\">\n",
       "      <th></th>\n",
       "      <th>Open Time</th>\n",
       "      <th>Open</th>\n",
       "      <th>High</th>\n",
       "      <th>Low</th>\n",
       "      <th>Close</th>\n",
       "      <th>Volume</th>\n",
       "      <th>Close time</th>\n",
       "      <th>Quote asset volume</th>\n",
       "      <th>Number of trades</th>\n",
       "      <th>Taker buy base asset volume</th>\n",
       "      <th>Taker buy quote asset volume</th>\n",
       "      <th>Ignore</th>\n",
       "    </tr>\n",
       "  </thead>\n",
       "  <tbody>\n",
       "    <tr>\n",
       "      <th>0</th>\n",
       "      <td>2021-05-14 00:00:00</td>\n",
       "      <td>3711.73</td>\n",
       "      <td>3752.00</td>\n",
       "      <td>3696.81</td>\n",
       "      <td>3752.00</td>\n",
       "      <td>13.99823</td>\n",
       "      <td>1.620951e+12</td>\n",
       "      <td>52069.699867</td>\n",
       "      <td>37.0</td>\n",
       "      <td>11.57649</td>\n",
       "      <td>43046.018651</td>\n",
       "      <td>0.0</td>\n",
       "    </tr>\n",
       "    <tr>\n",
       "      <th>1</th>\n",
       "      <td>2021-05-14 00:05:00</td>\n",
       "      <td>3754.89</td>\n",
       "      <td>3803.52</td>\n",
       "      <td>3743.71</td>\n",
       "      <td>3800.30</td>\n",
       "      <td>10.86795</td>\n",
       "      <td>1.620951e+12</td>\n",
       "      <td>41038.239212</td>\n",
       "      <td>75.0</td>\n",
       "      <td>3.61144</td>\n",
       "      <td>13621.813235</td>\n",
       "      <td>0.0</td>\n",
       "    </tr>\n",
       "    <tr>\n",
       "      <th>2</th>\n",
       "      <td>2021-05-14 00:10:00</td>\n",
       "      <td>3802.38</td>\n",
       "      <td>3802.38</td>\n",
       "      <td>3775.10</td>\n",
       "      <td>3799.06</td>\n",
       "      <td>11.09068</td>\n",
       "      <td>1.620951e+12</td>\n",
       "      <td>42033.451671</td>\n",
       "      <td>71.0</td>\n",
       "      <td>5.01864</td>\n",
       "      <td>19025.329107</td>\n",
       "      <td>0.0</td>\n",
       "    </tr>\n",
       "    <tr>\n",
       "      <th>3</th>\n",
       "      <td>2021-05-14 00:15:00</td>\n",
       "      <td>3796.04</td>\n",
       "      <td>3796.04</td>\n",
       "      <td>3760.12</td>\n",
       "      <td>3787.67</td>\n",
       "      <td>9.90878</td>\n",
       "      <td>1.620952e+12</td>\n",
       "      <td>37471.155563</td>\n",
       "      <td>60.0</td>\n",
       "      <td>5.53258</td>\n",
       "      <td>20934.359302</td>\n",
       "      <td>0.0</td>\n",
       "    </tr>\n",
       "    <tr>\n",
       "      <th>4</th>\n",
       "      <td>2021-05-14 00:20:00</td>\n",
       "      <td>3781.61</td>\n",
       "      <td>3784.77</td>\n",
       "      <td>3773.86</td>\n",
       "      <td>3776.86</td>\n",
       "      <td>3.58612</td>\n",
       "      <td>1.620952e+12</td>\n",
       "      <td>13551.655659</td>\n",
       "      <td>27.0</td>\n",
       "      <td>3.01877</td>\n",
       "      <td>11405.983505</td>\n",
       "      <td>0.0</td>\n",
       "    </tr>\n",
       "    <tr>\n",
       "      <th>...</th>\n",
       "      <td>...</td>\n",
       "      <td>...</td>\n",
       "      <td>...</td>\n",
       "      <td>...</td>\n",
       "      <td>...</td>\n",
       "      <td>...</td>\n",
       "      <td>...</td>\n",
       "      <td>...</td>\n",
       "      <td>...</td>\n",
       "      <td>...</td>\n",
       "      <td>...</td>\n",
       "      <td>...</td>\n",
       "    </tr>\n",
       "    <tr>\n",
       "      <th>1710</th>\n",
       "      <td>2021-05-19 22:30:00</td>\n",
       "      <td>2645.21</td>\n",
       "      <td>2674.91</td>\n",
       "      <td>2643.62</td>\n",
       "      <td>2668.26</td>\n",
       "      <td>23.80725</td>\n",
       "      <td>1.621464e+12</td>\n",
       "      <td>63281.115133</td>\n",
       "      <td>66.0</td>\n",
       "      <td>10.28926</td>\n",
       "      <td>27339.197168</td>\n",
       "      <td>0.0</td>\n",
       "    </tr>\n",
       "    <tr>\n",
       "      <th>1711</th>\n",
       "      <td>2021-05-19 22:35:00</td>\n",
       "      <td>2665.64</td>\n",
       "      <td>2690.57</td>\n",
       "      <td>2648.60</td>\n",
       "      <td>2658.16</td>\n",
       "      <td>50.81696</td>\n",
       "      <td>1.621464e+12</td>\n",
       "      <td>135326.506691</td>\n",
       "      <td>153.0</td>\n",
       "      <td>10.08428</td>\n",
       "      <td>26924.894850</td>\n",
       "      <td>0.0</td>\n",
       "    </tr>\n",
       "    <tr>\n",
       "      <th>1712</th>\n",
       "      <td>2021-05-19 22:40:00</td>\n",
       "      <td>2662.65</td>\n",
       "      <td>2702.54</td>\n",
       "      <td>2662.64</td>\n",
       "      <td>2687.54</td>\n",
       "      <td>65.35981</td>\n",
       "      <td>1.621464e+12</td>\n",
       "      <td>175274.727462</td>\n",
       "      <td>198.0</td>\n",
       "      <td>28.39463</td>\n",
       "      <td>76312.812392</td>\n",
       "      <td>0.0</td>\n",
       "    </tr>\n",
       "    <tr>\n",
       "      <th>1713</th>\n",
       "      <td>2021-05-19 22:45:00</td>\n",
       "      <td>2687.10</td>\n",
       "      <td>2719.73</td>\n",
       "      <td>2670.12</td>\n",
       "      <td>2709.04</td>\n",
       "      <td>53.02484</td>\n",
       "      <td>1.621465e+12</td>\n",
       "      <td>142640.954091</td>\n",
       "      <td>144.0</td>\n",
       "      <td>12.82959</td>\n",
       "      <td>34630.668087</td>\n",
       "      <td>0.0</td>\n",
       "    </tr>\n",
       "    <tr>\n",
       "      <th>1714</th>\n",
       "      <td>2021-05-19 22:50:00</td>\n",
       "      <td>2709.94</td>\n",
       "      <td>2713.92</td>\n",
       "      <td>2705.19</td>\n",
       "      <td>2705.19</td>\n",
       "      <td>4.76159</td>\n",
       "      <td>1.621465e+12</td>\n",
       "      <td>12897.449581</td>\n",
       "      <td>14.0</td>\n",
       "      <td>0.53142</td>\n",
       "      <td>1441.339570</td>\n",
       "      <td>0.0</td>\n",
       "    </tr>\n",
       "  </tbody>\n",
       "</table>\n",
       "<p>1715 rows × 12 columns</p>\n",
       "</div>"
      ],
      "text/plain": [
       "               Open Time     Open     High      Low    Close    Volume  \\\n",
       "0    2021-05-14 00:00:00  3711.73  3752.00  3696.81  3752.00  13.99823   \n",
       "1    2021-05-14 00:05:00  3754.89  3803.52  3743.71  3800.30  10.86795   \n",
       "2    2021-05-14 00:10:00  3802.38  3802.38  3775.10  3799.06  11.09068   \n",
       "3    2021-05-14 00:15:00  3796.04  3796.04  3760.12  3787.67   9.90878   \n",
       "4    2021-05-14 00:20:00  3781.61  3784.77  3773.86  3776.86   3.58612   \n",
       "...                  ...      ...      ...      ...      ...       ...   \n",
       "1710 2021-05-19 22:30:00  2645.21  2674.91  2643.62  2668.26  23.80725   \n",
       "1711 2021-05-19 22:35:00  2665.64  2690.57  2648.60  2658.16  50.81696   \n",
       "1712 2021-05-19 22:40:00  2662.65  2702.54  2662.64  2687.54  65.35981   \n",
       "1713 2021-05-19 22:45:00  2687.10  2719.73  2670.12  2709.04  53.02484   \n",
       "1714 2021-05-19 22:50:00  2709.94  2713.92  2705.19  2705.19   4.76159   \n",
       "\n",
       "        Close time  Quote asset volume  Number of trades  \\\n",
       "0     1.620951e+12        52069.699867              37.0   \n",
       "1     1.620951e+12        41038.239212              75.0   \n",
       "2     1.620951e+12        42033.451671              71.0   \n",
       "3     1.620952e+12        37471.155563              60.0   \n",
       "4     1.620952e+12        13551.655659              27.0   \n",
       "...            ...                 ...               ...   \n",
       "1710  1.621464e+12        63281.115133              66.0   \n",
       "1711  1.621464e+12       135326.506691             153.0   \n",
       "1712  1.621464e+12       175274.727462             198.0   \n",
       "1713  1.621465e+12       142640.954091             144.0   \n",
       "1714  1.621465e+12        12897.449581              14.0   \n",
       "\n",
       "      Taker buy base asset volume  Taker buy quote asset volume  Ignore  \n",
       "0                        11.57649                  43046.018651     0.0  \n",
       "1                         3.61144                  13621.813235     0.0  \n",
       "2                         5.01864                  19025.329107     0.0  \n",
       "3                         5.53258                  20934.359302     0.0  \n",
       "4                         3.01877                  11405.983505     0.0  \n",
       "...                           ...                           ...     ...  \n",
       "1710                     10.28926                  27339.197168     0.0  \n",
       "1711                     10.08428                  26924.894850     0.0  \n",
       "1712                     28.39463                  76312.812392     0.0  \n",
       "1713                     12.82959                  34630.668087     0.0  \n",
       "1714                      0.53142                   1441.339570     0.0  \n",
       "\n",
       "[1715 rows x 12 columns]"
      ]
     },
     "execution_count": 11,
     "metadata": {},
     "output_type": "execute_result"
    }
   ],
   "source": [
    "data=np.array(client.get_historical_klines('ETHBUSD', Client.KLINE_INTERVAL_5MINUTE, \"14 May, 2021\"))\n",
    "df=binanceDataFrame(data,data)\n",
    "df"
   ]
  },
  {
   "cell_type": "code",
   "execution_count": 12,
   "metadata": {},
   "outputs": [],
   "source": [
    "df=populateindicators(df)"
   ]
  },
  {
   "cell_type": "code",
   "execution_count": 13,
   "metadata": {},
   "outputs": [
    {
     "data": {
      "text/html": [
       "\n",
       "        <iframe\n",
       "            width=\"100%\"\n",
       "            height=\"475\"\n",
       "            src=\"http://DESKTOP-ANH9TVB:40000/dtale/iframe/1\"\n",
       "            frameborder=\"0\"\n",
       "            allowfullscreen\n",
       "        ></iframe>\n",
       "        "
      ],
      "text/plain": [
       "<IPython.lib.display.IFrame at 0x240131c9208>"
      ]
     },
     "metadata": {},
     "output_type": "display_data"
    },
    {
     "data": {
      "text/plain": []
     },
     "execution_count": 13,
     "metadata": {},
     "output_type": "execute_result"
    }
   ],
   "source": [
    "dtale.show(df)"
   ]
  },
  {
   "cell_type": "code",
   "execution_count": 14,
   "metadata": {},
   "outputs": [
    {
     "data": {
      "text/html": [
       "\n",
       "        <iframe\n",
       "            width=\"100%\"\n",
       "            height=\"475\"\n",
       "            src=\"http://DESKTOP-ANH9TVB:40000/dtale/iframe/2\"\n",
       "            frameborder=\"0\"\n",
       "            allowfullscreen\n",
       "        ></iframe>\n",
       "        "
      ],
      "text/plain": [
       "<IPython.lib.display.IFrame at 0x2401331e708>"
      ]
     },
     "metadata": {},
     "output_type": "display_data"
    },
    {
     "data": {
      "text/plain": []
     },
     "execution_count": 14,
     "metadata": {},
     "output_type": "execute_result"
    }
   ],
   "source": [
    "data3=np.array(client.get_historical_klines('ETHBUSD', Client.KLINE_INTERVAL_30MINUTE, \"14 May, 2021\"))\n",
    "df3=binanceDataFrame(data3,data3)\n",
    "df3=populateindicators(df3)\n",
    "dtale.show(df3)"
   ]
  },
  {
   "cell_type": "code",
   "execution_count": null,
   "metadata": {},
   "outputs": [],
   "source": []
  }
 ],
 "metadata": {
  "kernelspec": {
   "display_name": "Python 3",
   "language": "python",
   "name": "python3"
  },
  "language_info": {
   "codemirror_mode": {
    "name": "ipython",
    "version": 3
   },
   "file_extension": ".py",
   "mimetype": "text/x-python",
   "name": "python",
   "nbconvert_exporter": "python",
   "pygments_lexer": "ipython3",
   "version": "3.7.10"
  }
 },
 "nbformat": 4,
 "nbformat_minor": 4
}
